{
 "cells": [
  {
   "cell_type": "markdown",
   "id": "f0e8b277",
   "metadata": {},
   "source": [
    "text adventure project:\n",
    "- works like oregon trail\n",
    "- has at least 20 different encounters\n",
    "- has at least 5 endings\n",
    "- has an inventory system\n",
    "- has health and stamina systems\n",
    "- uses ollama to narrate the story and select encounters based on player choices\n",
    "- is written in python\n",
    "- uses redis to store player data\n",
    "- completely in terminal\n",
    "- has guidelines for the ai to follow\n",
    "- terminal needs to constantly update with player stats and inventory, stays in terminal window so no scrolling, the ai and player chatboxes are above player stats and inventory\n",
    "- ollama is used to generate the story and encounters based on player choices, must abide by the guidelines that are set for it\n",
    "- player choices are inputted in terminal and sent to ollama to generate the next part of the story, the ai should have weights for different types of encounters so that it can create a balanced experience\n",
    "- the game should have a clear beginning, middle, and end, with the ai guiding the player through the story based on their choices"
   ]
  }
 ],
 "metadata": {
  "language_info": {
   "name": "python"
  }
 },
 "nbformat": 4,
 "nbformat_minor": 5
}
